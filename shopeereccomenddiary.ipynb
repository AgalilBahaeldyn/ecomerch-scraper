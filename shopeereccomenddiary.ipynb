{
 "cells": [
  {
   "cell_type": "code",
   "execution_count": 6,
   "metadata": {},
   "outputs": [
    {
     "name": "stdout",
     "output_type": "stream",
     "text": [
      "[{'data': [{'price': '199', 'images': 'https://down-th.img.susercontent.com/file/506555e94853fd7cd2779e25fec14768_tn', 'sold': 'ขายแล้ว 29.6พัน ชิ้น'}, {'price': '143', 'images': 'https://down-th.img.susercontent.com/file/90b4d0f97a6390a3e7bad3cf566e8a7d_tn', 'sold': 'ขายแล้ว 22.8พัน ชิ้น'}, {'price': '259', 'images': 'https://down-th.img.susercontent.com/file/60b83b57c3ab5589cf05df29fdd30cb9_tn', 'sold': 'ขายแล้ว 7.6พัน ชิ้น'}, {'price': '135', 'images': 'https://down-th.img.susercontent.com/file/754cbadedfe02651e5381ffdff385321_tn', 'sold': 'ขายแล้ว 19.3พัน ชิ้น'}, {'price': '119', 'images': 'https://down-th.img.susercontent.com/file/th-11134207-7qul6-lh4ptu2tzmd056_tn', 'sold': 'ขายแล้ว 808 ชิ้น'}, {'price': '85', 'images': 'https://down-th.img.susercontent.com/file/01f3ed7b8628e5e93121d2ac265e6f39_tn', 'sold': 'ขายแล้ว 30.6พัน ชิ้น'}, {'price': '104', 'images': 'https://down-th.img.susercontent.com/file/d80c5faafb2154d3c54532f480384f5a_tn', 'sold': 'ขายแล้ว 3.7พัน ชิ้น'}, {'price': '85', 'images': 'https://down-th.img.susercontent.com/file/th-11134207-23010-lwev8krl7xmv4e_tn', 'sold': 'ขายแล้ว 12.5พัน ชิ้น'}, {'price': '219', 'images': 'https://down-th.img.susercontent.com/file/84597225a62ce2b589eaf0d5dbf228ac_tn', 'sold': 'ขายแล้ว 10.5พัน ชิ้น'}, {'price': '59', 'images': 'https://down-th.img.susercontent.com/file/sg-11134201-22100-ey9gbuo0triv6e_tn', 'sold': 'ขายแล้ว 13.2พัน ชิ้น'}, {'price': '179', 'images': 'https://down-th.img.susercontent.com/file/th-11134207-7qul9-lgxeaj1avg1gb4_tn', 'sold': 'ขายแล้ว 34.2พัน ชิ้น'}, {'price': '159', 'images': 'https://down-th.img.susercontent.com/file/9d6122f071e4a758678bc6579a658146_tn', 'sold': 'ขายแล้ว 7.4พัน ชิ้น'}, {'price': '330', 'images': 'https://down-th.img.susercontent.com/file/th-11134207-23010-ty29lcv0nxmv0f_tn', 'sold': 'ขายแล้ว 11.4พัน ชิ้น'}, {'price': '199', 'images': 'https://down-th.img.susercontent.com/file/th-11134207-23030-j8o22nxtj6nv6d_tn', 'sold': 'ขายแล้ว 1.3พัน ชิ้น'}, {'price': '149', 'images': 'https://down-th.img.susercontent.com/file/th-11134207-7qul6-lg0owxintfm6b7_tn', 'sold': 'ขายแล้ว 15.9พัน ชิ้น'}, {'price': '149', 'images': 'https://down-th.img.susercontent.com/file/b1a42ecc9b6dd46b235b301bfb05464d_tn', 'sold': 'ขายแล้ว 24.6พัน ชิ้น'}, {'price': '69', 'images': 'https://down-th.img.susercontent.com/file/th-11134207-7qul3-lfs4dhxjhpfz32_tn', 'sold': 'ขายแล้ว 57.4พัน ชิ้น'}, {'price': '155', 'images': 'https://down-th.img.susercontent.com/file/th-11134207-7qukw-leppsl5a33ge50_tn', 'sold': 'ขายแล้ว 319 ชิ้น'}, {'price': '125', 'images': 'https://down-th.img.susercontent.com/file/e147f984781fd1f511c891dcd554ecb2_tn', 'sold': 'ขายแล้ว 21พัน ชิ้น'}, {'price': '149', 'images': 'https://down-th.img.susercontent.com/file/b01964609deeae0ffded1ce0f64d6928_tn', 'sold': 'ขายแล้ว 98.2พัน ชิ้น'}, {'price': '160', 'images': 'https://down-th.img.susercontent.com/file/sg-11134201-22120-h5n6hkw1kflv3b_tn', 'sold': 'ขายแล้ว 15.9พัน ชิ้น'}, {'price': '39', 'images': 'https://down-th.img.susercontent.com/file/a2a58180e5bf925090553638f76b6295_tn', 'sold': 'ขายแล้ว 23.7พัน ชิ้น'}, {'price': '81', 'images': 'https://down-th.img.susercontent.com/file/sg-11134201-22100-h0bmru6qh8iv25_tn', 'sold': 'ขายแล้ว 24.5พัน ชิ้น'}, {'price': '99', 'images': 'https://down-th.img.susercontent.com/file/th-11134207-23020-j91l9j32wbnv10_tn', 'sold': 'ขายแล้ว 1.8พัน ชิ้น'}, {'price': '129', 'images': 'https://down-th.img.susercontent.com/file/ada29e2671e231e3641ce8a5834c0148_tn', 'sold': 'ขายแล้ว 7.8พัน ชิ้น'}, {'price': '82', 'images': 'https://down-th.img.susercontent.com/file/th-11134207-23020-yousm3fi3hnv05_tn', 'sold': 'ขายแล้ว 12.7พัน ชิ้น'}, {'price': '139', 'images': 'https://down-th.img.susercontent.com/file/sg-11134201-22120-d5z4wgp8aykvdd_tn', 'sold': 'ขายแล้ว 587 ชิ้น'}, {'price': '149', 'images': 'https://down-th.img.susercontent.com/file/th-11134207-7qul1-leylappdcahd71_tn', 'sold': 'ขายแล้ว 4.1พัน ชิ้น'}, {'price': '59', 'images': 'https://down-th.img.susercontent.com/file/bc235b261f6f75deb4af17b7f8b19bda_tn', 'sold': 'ขายแล้ว 4.7พัน ชิ้น'}, {'price': '149', 'images': 'https://down-th.img.susercontent.com/file/7400771e1667bf03d0adaeb5dff9e93d_tn', 'sold': 'ขายแล้ว 28.7พัน ชิ้น'}, {'price': '124', 'images': 'https://down-th.img.susercontent.com/file/sg-11134201-22120-qrxsdlfkpglv59_tn', 'sold': 'ขายแล้ว 14.8พัน ชิ้น'}, {'price': '125', 'images': 'https://down-th.img.susercontent.com/file/29a47212aac0ab770e5eeeabf7c4111d_tn', 'sold': 'ขายแล้ว 2.7พัน ชิ้น'}, {'price': '95', 'images': 'https://down-th.img.susercontent.com/file/16a092180ebf8a472a97f9910214b046_tn', 'sold': 'ขายแล้ว 5.4พัน ชิ้น'}, {'price': '45', 'images': 'https://down-th.img.susercontent.com/file/th-11134207-23010-j5s9ediojcmv75_tn', 'sold': 'ขายแล้ว 3.9พัน ชิ้น'}, {'price': '189', 'images': 'https://down-th.img.susercontent.com/file/d11ae62f2784a7771e23d843aa756a04_tn', 'sold': 'ขายแล้ว 31.1พัน ชิ้น'}, {'price': '121', 'images': 'https://down-th.img.susercontent.com/file/91e6c7620bf4dd0de9fcc8cfcba7aae9_tn', 'sold': 'ขายแล้ว 7.2พัน ชิ้น'}, {'price': '175', 'images': 'https://down-th.img.susercontent.com/file/9e478eaf7d63a580fa4a15a52ad4c87e_tn', 'sold': 'ขายแล้ว 16.2พัน ชิ้น'}, {'price': '180', 'images': 'https://down-th.img.susercontent.com/file/a043a3f3b462e488374d7023771d0a3e_tn', 'sold': 'ขายแล้ว 3.5พัน ชิ้น'}, {'price': '119', 'images': 'https://down-th.img.susercontent.com/file/th-11134207-7qul0-lf9f62y4z8cxce_tn', 'sold': 'ขายแล้ว 190 ชิ้น'}, {'price': '159', 'images': 'https://down-th.img.susercontent.com/file/th-11134207-7qul2-lezrxojkkdm5e2_tn', 'sold': 'ขายแล้ว 31.7พัน ชิ้น'}, {'price': '147', 'images': 'https://down-th.img.susercontent.com/file/2c74f9755f6e2e90a3416a1ba63a1274_tn', 'sold': 'ขายแล้ว 5.2พัน ชิ้น'}, {'price': '178', 'images': 'https://down-th.img.susercontent.com/file/th-11134207-7qul0-lh5rc73qr3u03e_tn', 'sold': 'ขายแล้ว 28.2พัน ชิ้น'}, {'price': '99', 'images': 'https://down-th.img.susercontent.com/file/th-11134207-7qul8-lf0yd6ghu429ae_tn', 'sold': 'ขายแล้ว 1.7พัน ชิ้น'}, {'price': '129', 'images': 'https://down-th.img.susercontent.com/file/4d7f3422036cf6458dec4b134d4fd3b6_tn', 'sold': 'ขายแล้ว 7.1พัน ชิ้น'}, {'price': '1', 'images': 'https://down-th.img.susercontent.com/file/sg-11134201-22120-90upkbmz15kv8f_tn', 'sold': 'ขายแล้ว 22.8พัน ชิ้น'}, {'price': '114', 'images': 'https://down-th.img.susercontent.com/file/63c90b64ef5ad5e926d337680e352716_tn', 'sold': 'ขายแล้ว 15.4พัน ชิ้น'}, {'price': '75', 'images': 'https://down-th.img.susercontent.com/file/sg-11134201-22100-6vd6wtsludiv61_tn', 'sold': 'ขายแล้ว 3.8พัน ชิ้น'}, {'price': '185', 'images': 'https://down-th.img.susercontent.com/file/sg-11134201-22100-h26r09y3oriva3_tn', 'sold': 'ขายแล้ว 3.2พัน ชิ้น'}]}]\n"
     ]
    }
   ],
   "source": [
    "from selenium import webdriver\n",
    "import time\n",
    "from selenium.webdriver.chrome.options import Options\n",
    "from selenium.webdriver.support.ui import WebDriverWait\n",
    "from selenium.webdriver.support import expected_conditions as EC\n",
    "import re\n",
    "import emoji\n",
    "chrome_options = Options()\n",
    "driver = webdriver.Chrome(executable_path=r'chromedriver.exe', options=chrome_options)\n",
    "\n",
    "\n",
    "def remove_emoji(text):\n",
    "    return emoji.get_emoji_regexp().sub(u'', text)\n",
    "\n",
    "\n",
    "driver.get('https://shopee.co.th/')\n",
    "thai_lang = driver.find_element_by_class_name('shopee-button-outline.shopee-button-outline--primary-reverse')\n",
    "thai_lang.click()\n",
    "close_popup = driver.execute_script(\"return document.querySelector('shopee-banner-popup-stateful').shadowRoot.querySelector('div.shopee-popup__close-btn')\")\n",
    "close_popup.click()\n",
    "driver.execute_script(\"document.body.style.zoom='10%'\")\n",
    "time.sleep(2)\n",
    "\n",
    "diarybox=driver.find_element_by_class_name('stardust-tabs-panels')\n",
    "time.sleep(1.5)\n",
    "data_dict_list=[]\n",
    "col=diarybox.find_elements_by_class_name('nH7cMF')\n",
    "for product in col:\n",
    "    time.sleep(0.5)\n",
    "    data_dict = dict()\n",
    "    price = product.find_element_by_class_name('_3KqMTq').text\n",
    "    sold=product.find_element_by_class_name('_6ykn6M.aO8bXP').text\n",
    "    image=product.find_element_by_tag_name('img')\n",
    "    image=image.get_attribute(\"src\")\n",
    "\n",
    "    data_dict['price'] = price\n",
    "    data_dict['images'] = image\n",
    "    data_dict['sold'] = sold\n",
    "    data_dict_list.append(data_dict)\n",
    "\n",
    "print([{\"data\":data_dict_list}]) \n",
    "    "
   ]
  }
 ],
 "metadata": {
  "kernelspec": {
   "display_name": "Python 3",
   "language": "python",
   "name": "python3"
  },
  "language_info": {
   "codemirror_mode": {
    "name": "ipython",
    "version": 3
   },
   "file_extension": ".py",
   "mimetype": "text/x-python",
   "name": "python",
   "nbconvert_exporter": "python",
   "pygments_lexer": "ipython3",
   "version": "3.11.1"
  },
  "orig_nbformat": 4
 },
 "nbformat": 4,
 "nbformat_minor": 2
}
