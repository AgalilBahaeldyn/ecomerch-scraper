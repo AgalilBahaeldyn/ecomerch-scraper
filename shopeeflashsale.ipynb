{
 "cells": [
  {
   "cell_type": "code",
   "execution_count": 3,
   "metadata": {},
   "outputs": [
    {
     "name": "stdout",
     "output_type": "stream",
     "text": [
      "[{'data': [{'price': '', 'images': 'https://down-th.img.susercontent.com/file/7923ab83d6e0e66dcb3a937da0ffa005_tn', 'sold': ''}, {'price': '', 'images': 'https://down-th.img.susercontent.com/file/79361eb24e7b626f47e52727fb5deccc_tn', 'sold': ''}, {'price': '', 'images': 'https://down-th.img.susercontent.com/file/sg-11134004-23010-pqhd5uj9y8lv0f_tn', 'sold': ''}, {'price': '', 'images': 'https://down-th.img.susercontent.com/file/th-50009109-9306bfa707cc97ac5f14072bf120ef0f_tn', 'sold': ''}, {'price': '', 'images': 'https://down-th.img.susercontent.com/file/th-50009109-9f01fe1b189591b1c99e6861f0885c45_tn', 'sold': ''}, {'price': '', 'images': 'https://down-th.img.susercontent.com/file/sg-11134004-23010-3xa9l83q8fmv21_tn', 'sold': ''}, {'price': '', 'images': 'https://down-th.img.susercontent.com/file/c175cab02f2b27849b3529ab280ca405_tn', 'sold': ''}, {'price': '', 'images': 'https://down-th.img.susercontent.com/file/ab9241b6736f080a2378ad6cb33cac04_tn', 'sold': ''}, {'price': '', 'images': 'https://down-th.img.susercontent.com/file/4ad57748e17a95abaefaab80a113ed63_tn', 'sold': ''}, {'price': '', 'images': 'https://down-th.img.susercontent.com/file/2e85cabdfcb76fe5641dc86be7acc096_tn', 'sold': ''}, {'price': '฿\\n3,000', 'images': 'https://down-th.img.susercontent.com/file/a1ecf18d3df9698aed081f68eea5b86d_tn', 'sold': 'ขายดี'}, {'price': '฿\\n2,235', 'images': 'https://down-th.img.susercontent.com/file/6c0cfca43f560c29e9986ac122f0c675_tn', 'sold': 'ขายแล้ว 17'}, {'price': '฿\\n542', 'images': 'https://down-th.img.susercontent.com/file/sg-11134004-7qvd9-lgn8934a57vz9e_tn', 'sold': 'ขายดี'}, {'price': '฿\\n8,299', 'images': 'https://down-th.img.susercontent.com/file/th-11134207-7qul8-lfzetvlncifi3c_tn', 'sold': 'ขายดี'}, {'price': '฿\\n129', 'images': 'https://down-th.img.susercontent.com/file/49f2811b059b005841da7997dd5f04ac_tn', 'sold': 'ขายแล้ว 28'}, {'price': '฿\\n17,299', 'images': 'https://down-th.img.susercontent.com/file/sg-50009109-93d8800f15a6d1e0d2fcc9d40cbf1f68_tn', 'sold': 'ขายดี'}]}]\n"
     ]
    }
   ],
   "source": [
    "from selenium import webdriver\n",
    "import time\n",
    "from selenium.webdriver.chrome.options import Options\n",
    "from selenium.webdriver.support.ui import WebDriverWait\n",
    "from selenium.webdriver.support import expected_conditions as EC\n",
    "import re\n",
    "import emoji\n",
    "chrome_options = Options()\n",
    "driver = webdriver.Chrome(executable_path=r'chromedriver.exe', options=chrome_options)\n",
    "\n",
    "\n",
    "def remove_emoji(text):\n",
    "    return emoji.get_emoji_regexp().sub(u'', text)\n",
    "\n",
    "\n",
    "driver.get('https://shopee.co.th/')\n",
    "thai_lang = driver.find_element_by_class_name('shopee-button-outline.shopee-button-outline--primary-reverse')\n",
    "thai_lang.click()\n",
    "close_popup = driver.execute_script(\"return document.querySelector('shopee-banner-popup-stateful').shadowRoot.querySelector('div.shopee-popup__close-btn')\")\n",
    "close_popup.click()\n",
    "# driver.execute_script(\"document.body.style.zoom='10%'\")\n",
    "\n",
    "flashsalebox=driver.find_element_by_class_name('PF1fuW')\n",
    "time.sleep(2)\n",
    "nextbtn=flashsalebox.find_element_by_class_name('carousel-arrow.carousel-arrow--next.carousel-arrow--hint')\n",
    "svgicon=nextbtn.find_element_by_tag_name('svg')\n",
    "svgicon.click()\n",
    "time.sleep(1)\n",
    "svgicon.click()\n",
    "\n",
    "data_dict_list=[]\n",
    "col=flashsalebox.find_elements_by_class_name('image-carousel__item')\n",
    "for product in col:\n",
    "    time.sleep(0.5)\n",
    "    data_dict = dict()\n",
    "    price = product.find_element_by_class_name('hSM8kk').text\n",
    "    sold=product.find_element_by_class_name('eNmE7o.RJ6Vpu').text\n",
    "    image=product.find_element_by_class_name('wP9-V9.WPIj4t')\n",
    "    urlimage=image.get_attribute('style')\n",
    "    match = re.search(r'background-image:\\s*url\\((.*?)\\)', urlimage)\n",
    "    if match:\n",
    "        background_image_url = match.group(1)\n",
    "        background_image_url=background_image_url[1:-1]\n",
    "        image = background_image_url\n",
    "\n",
    "    data_dict['price'] = price\n",
    "    data_dict['images'] = image\n",
    "    data_dict['sold'] = sold\n",
    "    data_dict_list.append(data_dict)\n",
    "\n",
    "print([{\"data\":data_dict_list}]) \n",
    "    "
   ]
  }
 ],
 "metadata": {
  "kernelspec": {
   "display_name": "Python 3",
   "language": "python",
   "name": "python3"
  },
  "language_info": {
   "codemirror_mode": {
    "name": "ipython",
    "version": 3
   },
   "file_extension": ".py",
   "mimetype": "text/x-python",
   "name": "python",
   "nbconvert_exporter": "python",
   "pygments_lexer": "ipython3",
   "version": "3.11.1"
  },
  "orig_nbformat": 4
 },
 "nbformat": 4,
 "nbformat_minor": 2
}
